{
  "nbformat": 4,
  "nbformat_minor": 0,
  "metadata": {
    "colab": {
      "provenance": []
    },
    "kernelspec": {
      "name": "python3",
      "display_name": "Python 3"
    },
    "language_info": {
      "name": "python"
    }
  },
  "cells": [
    {
      "cell_type": "code",
      "execution_count": 1,
      "metadata": {
        "colab": {
          "base_uri": "https://localhost:8080/"
        },
        "id": "Epr83N_V4uG4",
        "outputId": "1b736b6c-7d23-458f-eaa5-959f81fd1f52"
      },
      "outputs": [
        {
          "output_type": "stream",
          "name": "stdout",
          "text": [
            "\n",
            "  Analysis options:\n",
            "  1. Counting the number of lines.\n",
            "  2. Counting the total number of words.\n",
            "  3. Counting the total number of characters with whitespaces.\n",
            "  4. Counting the total number of characters without whitespaces.\n",
            "  5. Identifying the frequency of each word and the top 5 most common words.\n",
            "\n",
            "  File path: (Main)\n",
            "\n",
            "  /content/File1.txt\n",
            "\n",
            "\n",
            "  File path for test cases:\n",
            "\n",
            "  /content/File2.txt :(Empty file example for test case)\n",
            "  /content/File3.txt :(File with unusual characters example for test case)\n",
            "        \n",
            "Enter file path: /content/File1.txt\n",
            "Select analysis option number: 5\n",
            "\n",
            "Words frequency:\n",
            "\n",
            "after: 1\n",
            "also: 1\n",
            "and: 2\n",
            "apples: 1\n",
            "buy: 3\n",
            "carrots: 1\n",
            "chillis: 1\n",
            "could: 1\n",
            "go: 2\n",
            "home: 1\n",
            "market: 1\n",
            "not: 1\n",
            "sarah: 1\n",
            "she: 4\n",
            "some: 2\n",
            "that: 1\n",
            "the: 1\n",
            "to: 1\n",
            "tomatoes: 1\n",
            "watermelon.: 1\n",
            "will: 4\n",
            "\n",
            "Top 5 most common words:\n",
            "\n",
            "will: 4\n",
            "she: 4\n",
            "buy: 3\n",
            "go: 2\n",
            "some: 2\n"
          ]
        }
      ],
      "source": [
        "#create a text file with some lines as main file\n",
        "with open('File1.txt', 'w') as f:\n",
        "  f.write('Sarah will go to the market\\n' 'She will buy some apples and carrots\\n' 'She will also buy some tomatoes and chillis\\n' 'She will go home after that\\n' 'she could not buy watermelon.\\n')\n",
        "\n",
        "#create an empty text file as example for test case\n",
        "with open('File2.txt', 'w') as f:\n",
        "  f.write(' ')\n",
        "\n",
        "#create a file with unusual characters as example for test case\n",
        "with open('File3.txt', 'w') as f:\n",
        "  f.write('@@@%% !!!! $$^^&&**** ????? @@@@@---+=')\n",
        "\n",
        "#define function to count number of lines\n",
        "def calculate_lines(path):\n",
        "  with open(path, 'r') as f:\n",
        "    num_lines = f.readlines()\n",
        "  return len(num_lines)\n",
        "\n",
        "#define function to count number of words\n",
        "def calculate_words(path):\n",
        "  with open(path, 'r') as f:\n",
        "    text = f.read()\n",
        "    num_words = text.split()\n",
        "  return len(num_words)\n",
        "\n",
        "#define function to count characters including whitespace\n",
        "def characters_with_WS(path):\n",
        "  with open(path, 'r') as f:\n",
        "    text = f.read()\n",
        "  return len(text)\n",
        "\n",
        "#define function to count characters excluding whitespace\n",
        "def characters_without_WS(path):\n",
        "  with open(path, 'r') as f:\n",
        "    text = f.read()\n",
        "    text = text.replace(' ', '')\n",
        "    return len(text)\n",
        "\n",
        "#calculate the frequency of each word\n",
        "def frequency_of_word(path):\n",
        "  w_freq = {}\n",
        "  with open(path, 'r') as f:\n",
        "    text = f.read().lower()\n",
        "    numwords = text.split()\n",
        "    for w in numwords:\n",
        "        if w in w_freq:\n",
        "            w_freq[w] += 1\n",
        "        else:\n",
        "            w_freq[w] = 1\n",
        "\n",
        "  calc_frequency = sorted(w_freq.items())\n",
        "  print('\\nWords frequency:\\n')\n",
        "  for w, numfreq in calc_frequency:\n",
        "    print(f\"{w}: {numfreq}\")\n",
        "\n",
        "#display the 5 most common words\n",
        "  print(\"\\nTop 5 most common words:\\n\")\n",
        "  calc_frequency = sorted(w_freq.items(), key=lambda x: x[1], reverse=True)[:5]\n",
        "  for w, numfreq in calc_frequency:\n",
        "      print(f\"{w}: {numfreq}\")\n",
        "\n",
        "#creating a menu to help with the user input\n",
        "def main():\n",
        "  print('''\n",
        "  Analysis options:\n",
        "  1. Counting the number of lines.\n",
        "  2. Counting the total number of words.\n",
        "  3. Counting the total number of characters with whitespaces.\n",
        "  4. Counting the total number of characters without whitespaces.\n",
        "  5. Identifying the frequency of each word and the top 5 most common words.\n",
        "\n",
        "  File path: (Main)\n",
        "\n",
        "  /content/File1.txt\n",
        "\n",
        "\n",
        "  File path for test cases:\n",
        "\n",
        "  /content/File2.txt :(Empty file example for test case)\n",
        "  /content/File3.txt :(File with unusual characters example for test case)\n",
        "        ''')\n",
        "\n",
        "#user inputs to enter a file path and analysis option\n",
        "  path = input('Enter file path: ')\n",
        "  selection = input('Select analysis option number: ')\n",
        "\n",
        "#using if and elif for user selections\n",
        "  if selection == '1':\n",
        "    numlines = calculate_lines(path)\n",
        "    print('\\nNumber of lines: ', numlines)\n",
        "    if numlines == 0:\n",
        "      print('The text file does not contain any line.')\n",
        "\n",
        "  elif selection == '2':\n",
        "    numwords = calculate_words(path)\n",
        "    print('\\nNumber of words: ', numwords)\n",
        "    if numwords == 0:\n",
        "      print('The text file does not contain any word.')\n",
        "\n",
        "  elif selection == '3':\n",
        "    with_WS = characters_with_WS(path)\n",
        "    print('\\nNumber of characters including whitespace: ', with_WS)\n",
        "    if with_WS == 0:\n",
        "      print('No character')\n",
        "\n",
        "  elif selection == '4':\n",
        "    without_WS = characters_without_WS(path)\n",
        "    print('\\nNumber of characters excluding whitespace: ', without_WS)\n",
        "    if without_WS == 0:\n",
        "      print(\"No Character\")\n",
        "\n",
        "  elif selection == '5':\n",
        "    freq_words = frequency_of_word(path)\n",
        "    if freq_words == 0:\n",
        "      print('The text file does not contain any word.')\n",
        "\n",
        "#displaying an error in case the user enter the wrong input\n",
        "  else:\n",
        "    print('Error! You should enter a number from 1 to 6.')\n",
        "\n",
        "if __name__ == '__main__':\n",
        "  main()\n",
        "\n"
      ]
    },
    {
      "cell_type": "markdown",
      "source": [
        "2. Code description:\n",
        "\n",
        "When the user runs the program, the 5 analysis options will be displayed. The user will first have to input the file path and then choose which analysis option they want. If the user selects analysis option number 1, the program will display the total number of lines in the chosen text file. If option number 2 is chosen, the program will show the total number of words in the chosen text file. If the user selects analysis option number 4, the program will output the total number of characters without whitespaces in the chosen text file. If option number 5 is chosen, the program will display the frequency of each word and the top 5 most common words. However, if the user enters something else that is not a number from 1 to 6, an error message will be shown."
      ],
      "metadata": {
        "id": "aA3rXAxDbjnN"
      }
    },
    {
      "cell_type": "markdown",
      "source": [
        "3. **Test Cases**"
      ],
      "metadata": {
        "id": "gpCxgrz4Y3d9"
      }
    },
    {
      "cell_type": "markdown",
      "source": [
        "**Test case 1: (Main file)**"
      ],
      "metadata": {
        "id": "1kG3-kgIZYzQ"
      }
    },
    {
      "cell_type": "markdown",
      "source": [
        "Enter file path: /content/File1.txt\n",
        "\n",
        "Select analysis option number: 5\n",
        "\n",
        "**Results:**\n",
        "\n",
        "\n",
        "**Words frequency:**\n",
        "\n",
        "after: 1\n",
        "also: 1\n",
        "and: 2\n",
        "apples: 1\n",
        "buy: 3\n",
        "carrots: 1\n",
        "chillis: 1\n",
        "could: 1\n",
        "go: 2\n",
        "home: 1\n",
        "market: 1\n",
        "not: 1\n",
        "sarah: 1\n",
        "she: 4\n",
        "some: 2\n",
        "that: 1\n",
        "the: 1\n",
        "to: 1\n",
        "tomatoes: 1\n",
        "watermelon.: 1\n",
        "will: 4\n",
        "\n",
        "\n",
        "**Top 5 most common words:**\n",
        "\n",
        "will: 4\n",
        "she: 4\n",
        "buy: 3\n",
        "go: 2\n",
        "some: 2"
      ],
      "metadata": {
        "id": "PBqSlxMkY8hy"
      }
    },
    {
      "cell_type": "markdown",
      "source": [
        "**Test case 2: (Empty File)**"
      ],
      "metadata": {
        "id": "3plg5KSCZd77"
      }
    },
    {
      "cell_type": "markdown",
      "source": [
        "Enter file path: /content/File2.txt\n",
        "\n",
        "Select analysis option number: 4\n",
        "\n",
        "**Results:**\n",
        "\n",
        "Number of characters excluding whitespace:  0\n",
        "\n",
        "No Character"
      ],
      "metadata": {
        "id": "LSu5sANFZit9"
      }
    },
    {
      "cell_type": "markdown",
      "source": [
        "**Test case 3: (File with unusual characters)**"
      ],
      "metadata": {
        "id": "yJ9oreNHbpgn"
      }
    },
    {
      "cell_type": "markdown",
      "source": [
        "Enter file path: /content/File3.txt\n",
        "\n",
        "Select analysis option number: 4\n",
        "\n",
        "**Results:**\n",
        "\n",
        "Number of characters excluding whitespace:  34"
      ],
      "metadata": {
        "id": "3-5M4dWMbwly"
      }
    },
    {
      "cell_type": "markdown",
      "source": [
        "**Test case 4: Error handling**"
      ],
      "metadata": {
        "id": "05fa8vNydGpr"
      }
    },
    {
      "cell_type": "markdown",
      "source": [
        "Enter file path: /content/File1.txt\n",
        "\n",
        "Select analysis option number: No\n",
        "\n",
        "**Results:**\n",
        "\n",
        "Error! You should enter a number from 1 to 6."
      ],
      "metadata": {
        "id": "CsyGp7e4dMAV"
      }
    },
    {
      "cell_type": "markdown",
      "source": [
        "4. In order to know how I would modify my tool, it will depend on the binary file. However some analysis that can be used in this case could be chunking or streaming. This means that we can load the file in smaller pieces instead of loading the large file which will take too much time."
      ],
      "metadata": {
        "id": "ctIZ4P74QkUp"
      }
    }
  ]
}