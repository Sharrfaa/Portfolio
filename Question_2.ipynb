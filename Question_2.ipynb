{
  "nbformat": 4,
  "nbformat_minor": 0,
  "metadata": {
    "colab": {
      "provenance": []
    },
    "kernelspec": {
      "name": "python3",
      "display_name": "Python 3"
    },
    "language_info": {
      "name": "python"
    }
  },
  "cells": [
    {
      "cell_type": "markdown",
      "source": [
        "1. The first error is to put \"p = none\" when it should be \"p = 0\". Secondly, when we use the if statement, we should not use another \"if\" after using \"else\"."
      ],
      "metadata": {
        "id": "0Vs41u8HT4Ms"
      }
    },
    {
      "cell_type": "markdown",
      "source": [
        "2. Correct the error:"
      ],
      "metadata": {
        "id": "Is6RSvYbT8g5"
      }
    },
    {
      "cell_type": "code",
      "execution_count": 3,
      "metadata": {
        "colab": {
          "base_uri": "https://localhost:8080/"
        },
        "id": "sv8syImihNSI",
        "outputId": "b80f0a91-28f1-42b2-c99c-65e45f4c299e"
      },
      "outputs": [
        {
          "output_type": "stream",
          "name": "stdout",
          "text": [
            "Enter total order: 80\n",
            "Promotional discount: 4.0\n",
            "Discounted Price:  76.0\n"
          ]
        }
      ],
      "source": [
        "#defining a function to calculate the promotional discount\n",
        "def promo(totalorder):\n",
        "\n",
        "    promodiscount = 0\n",
        "\n",
        "#making sure the discount is 5% when the order is between $50 and $100\n",
        "    if totalorder >= 50 and totalorder <= 100:\n",
        "        promodiscount = 5\n",
        "\n",
        "#if the order id over $100, the discount is 10%\n",
        "    elif totalorder > 100:\n",
        "        promodiscount = 10\n",
        "\n",
        "#if total order is zero or less, show ValueError\n",
        "    elif totalorder is None or totalorder <= 0:\n",
        "      raise ValueError(\"Order value not valid!\")\n",
        "\n",
        "#calculating the promotional discount after knowing its discount rate\n",
        "    return totalorder * (promodiscount / 100)\n",
        "\n",
        "#ask user input for the total order\n",
        "totalorder = int(input('Enter total order: '))\n",
        "\n",
        "#display the promotional discount and the final discounted price\n",
        "promo_discount = promo(totalorder)\n",
        "print('Promotional discount:', promo_discount)\n",
        "print('Discounted Price: ', totalorder - promo_discount)\n"
      ]
    },
    {
      "cell_type": "markdown",
      "source": [
        "3. In order to align the code with industry best practices, I made sure to use meaning variables so others can easily read my code to understand as well as including comments."
      ],
      "metadata": {
        "id": "6uyP8AlZTzJR"
      }
    },
    {
      "cell_type": "markdown",
      "source": [
        "4. **Test cases**"
      ],
      "metadata": {
        "id": "87yJB0vyXA2W"
      }
    },
    {
      "cell_type": "markdown",
      "source": [
        "Test case 1:"
      ],
      "metadata": {
        "id": "NRSnBsnhVFmE"
      }
    },
    {
      "cell_type": "markdown",
      "source": [
        "Enter total order: 100\n",
        "\n",
        "**Results**:\n",
        "\n",
        "Promotional discount: 5.0\n",
        "\n",
        "Discounted Price:  95.0"
      ],
      "metadata": {
        "id": "vJRjwOWxWdnF"
      }
    },
    {
      "cell_type": "markdown",
      "source": [
        "Test case 2:"
      ],
      "metadata": {
        "id": "FgEvuefiVSKm"
      }
    },
    {
      "cell_type": "markdown",
      "source": [
        "Enter total order: 0\n",
        "\n",
        "**Results:**\n",
        "\n",
        "ValueError: Order value not valid!"
      ],
      "metadata": {
        "id": "_esC2k4vWpvJ"
      }
    },
    {
      "cell_type": "markdown",
      "source": [
        "Test case 3:"
      ],
      "metadata": {
        "id": "zXgOvw5vV-xh"
      }
    },
    {
      "cell_type": "markdown",
      "source": [
        "Enter total order: 150\n",
        "\n",
        "**Results:**\n",
        "\n",
        "Promotional discount: 15.0\n",
        "\n",
        "Discounted Price:  135.0"
      ],
      "metadata": {
        "id": "2yxtdxnFWwT-"
      }
    }
  ]
}